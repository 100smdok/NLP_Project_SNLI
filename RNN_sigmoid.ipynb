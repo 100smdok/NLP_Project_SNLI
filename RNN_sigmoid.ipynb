{
  "cells": [
    {
      "cell_type": "code",
      "execution_count": null,
      "metadata": {
        "id": "umpasZ-9AuSm"
      },
      "outputs": [],
      "source": [
        "import numpy as np\n",
        "np.random.seed(69)\n",
        "import pandas as pd\n",
        "import tensorflow as tf\n",
        "from functools import reduce\n",
        "import json\n",
        "import os\n",
        "import re\n",
        "import keras\n",
        "import keras.backend as K\n",
        "from keras.callbacks import EarlyStopping, ModelCheckpoint\n",
        "from keras.layers import concatenate, LSTM, GRU, Dense, Input, Dropout, TimeDistributed, Embedding\n",
        "from keras.layers import BatchNormalization\n",
        "\n",
        "from keras.models import Model\n",
        "from keras.utils import pad_sequences\n",
        "from keras.preprocessing.text import Tokenizer\n",
        "from keras.regularizers import l2\n",
        "from keras.utils import np_utils\n",
        "import matplotlib.pyplot as plt\n",
        "import seaborn as sns\n",
        "from sklearn import metrics\n",
        "from sklearn.metrics import classification_report"
      ]
    },
    {
      "cell_type": "code",
      "execution_count": null,
      "metadata": {
        "id": "WgyN5elALkSf"
      },
      "outputs": [],
      "source": [
        "# LPH = Label, Premise, Hypothesis\n",
        "def getLPH(fileName):\n",
        "  l = []\n",
        "  for _, line in enumerate(open(fileName)):\n",
        "    jsonData = json.loads(line)\n",
        "    label = jsonData['gold_label']\n",
        "    getToks = lambda s: ' '.join(s.replace('(', ' ').replace(')', ' ').replace('-LRB-', '(').replace('-RRB-', ')').lower().split())\n",
        "    p = \"<s> \" + getToks(jsonData['sentence1_binary_parse'])\n",
        "    h = \"<s> \" + getToks(jsonData['sentence2_binary_parse'])\n",
        "\n",
        "    if label == '-':\n",
        "      continue\n",
        "\n",
        "    l.append((label, p, h))\n",
        "  return l\n",
        "\n",
        "def get_data(fileName):\n",
        "  data = getLPH(fileName=fileName)\n",
        "  Ps = [x[1] for x in data]\n",
        "  Hs = [x[2] for x in data]\n",
        "\n",
        "  LABELS = {'contradiction': 0, 'neutral': 1, 'entailment': 2}\n",
        "  Y = np.array([LABELS[x[0]] for x in data])\n",
        "  Y = np_utils.to_categorical(Y, len(LABELS))\n",
        "\n",
        "  return Ps, Hs, Y"
      ]
    },
    {
      "cell_type": "code",
      "execution_count": null,
      "metadata": {
        "id": "dR9p7N5lL9sQ"
      },
      "outputs": [],
      "source": [
        "RNN = None\n",
        "LAYERS = 1\n",
        "USE_GLOVE = True\n",
        "TRAIN_EMBED = False\n",
        "EMBED_HIDDEN_SIZE = 300\n",
        "SENT_HIDDEN_SIZE = 300\n",
        "BATCH_SIZE = 32\n",
        "PATIENCE = 2\n",
        "MAX_EPOCHS = 10\n",
        "MAX_LEN = 42\n",
        "DP = 0.2\n",
        "L2 = 4e-6\n",
        "ACTIVATION = 'sigmoid'\n",
        "OPTIMIZER = 'rmsprop'"
      ]
    },
    {
      "cell_type": "code",
      "execution_count": null,
      "metadata": {
        "colab": {
          "base_uri": "https://localhost:8080/"
        },
        "id": "Uuwfkc3EBbfr",
        "outputId": "38f094ac-ade0-47a3-cb78-cc0964d2caf8"
      },
      "outputs": [
        {
          "name": "stdout",
          "output_type": "stream",
          "text": [
            "Drive already mounted at /content/drive; to attempt to forcibly remount, call drive.mount(\"/content/drive\", force_remount=True).\n"
          ]
        }
      ],
      "source": [
        "from google.colab import drive\n",
        "drive.mount('/content/drive')"
      ]
    },
    {
      "cell_type": "code",
      "execution_count": null,
      "metadata": {
        "id": "Rq5XePQVMMBg"
      },
      "outputs": [],
      "source": [
        "training = get_data('/content/drive/MyDrive/NLP_Project/snli_1.0/snli_1.0_train.jsonl')\n",
        "validation = get_data('/content/drive/MyDrive/NLP_Project/snli_1.0/snli_1.0_dev.jsonl')\n",
        "test = get_data('/content/drive/MyDrive/NLP_Project/snli_1.0/snli_1.0_test.jsonl')\n",
        "\n",
        "tokenizer = Tokenizer(lower=False, filters='')\n",
        "tokenizer.fit_on_texts(training[0] + training[1])\n",
        "\n",
        "VOCAB = len(tokenizer.word_counts) + 1\n",
        "LABELS = {'contradiction': 0, 'neutral': 1, 'entailment': 2}\n",
        "\n",
        "to_seq = lambda X: pad_sequences(tokenizer.texts_to_sequences(X), maxlen=MAX_LEN)\n",
        "prepare_data = lambda data: (to_seq(data[0]), to_seq(data[1]), data[2])\n",
        "\n",
        "training = prepare_data(training)\n",
        "validation = prepare_data(validation)\n",
        "test = prepare_data(test)"
      ]
    },
    {
      "cell_type": "code",
      "execution_count": null,
      "metadata": {
        "colab": {
          "base_uri": "https://localhost:8080/"
        },
        "id": "uBv3dOiCONVt",
        "outputId": "156dff87-e85f-4187-fcad-caab228d1a94"
      },
      "outputs": [
        {
          "name": "stdout",
          "output_type": "stream",
          "text": [
            "Loading GloVe\n",
            "Total number of null word embeddings:\n",
            "4021\n"
          ]
        }
      ],
      "source": [
        "GLOVE_STORE = '/content/drive/MyDrive/NLP_Project/Glove-Embeddings/glove_embeddings'\n",
        "if USE_GLOVE:\n",
        "  if not os.path.exists(GLOVE_STORE + '.npy'):\n",
        "    print('Computing GloVe')\n",
        "  \n",
        "    embeddings_index = {}\n",
        "    f = open('./GloVe-Embeddings/glove.840B.300d.txt')\n",
        "    for line in f:\n",
        "      values = line.split(' ')\n",
        "      word = values[0]\n",
        "      coefs = np.asarray(values[1:], dtype='float32')\n",
        "      embeddings_index[word] = coefs\n",
        "    f.close()\n",
        "    \n",
        "    # prepare embedding matrix\n",
        "    embedding_matrix = np.zeros((VOCAB, EMBED_HIDDEN_SIZE))\n",
        "    for word, i in tokenizer.word_index.items():\n",
        "      embedding_vector = embeddings_index.get(word)\n",
        "      if embedding_vector is not None:\n",
        "        # words not found in embedding index will be all-zeros.\n",
        "        embedding_matrix[i] = embedding_vector\n",
        "      else:\n",
        "        print('Missing from GloVe: {}'.format(word))\n",
        "  \n",
        "    np.save(GLOVE_STORE, embedding_matrix)\n",
        "\n",
        "  print('Loading GloVe')\n",
        "  embedding_matrix = np.load(GLOVE_STORE + '.npy')\n",
        "\n",
        "  print('Total number of null word embeddings:')\n",
        "  print(np.sum(np.sum(embedding_matrix, axis=1) == 0))\n",
        "\n",
        "  embed = Embedding(VOCAB, EMBED_HIDDEN_SIZE, weights=[embedding_matrix], input_length=MAX_LEN, trainable=TRAIN_EMBED)\n",
        "else:\n",
        "  embed = Embedding(VOCAB, EMBED_HIDDEN_SIZE, input_length=MAX_LEN)"
      ]
    },
    {
      "cell_type": "code",
      "execution_count": null,
      "metadata": {
        "id": "C99hGqVQRDRr"
      },
      "outputs": [],
      "source": [
        "rnn_kwargs = dict(units=SENT_HIDDEN_SIZE, dropout=DP, recurrent_dropout=DP)\n",
        "SumEmbeddings = keras.layers.core.Lambda(lambda x: K.sum(x, axis=1), output_shape=(SENT_HIDDEN_SIZE, ))\n",
        "\n",
        "translate = TimeDistributed(Dense(SENT_HIDDEN_SIZE, activation=ACTIVATION))\n",
        "\n",
        "premise = Input(shape=(MAX_LEN,), dtype='int32')\n",
        "hypothesis = Input(shape=(MAX_LEN,), dtype='int32')\n",
        "\n",
        "prem = embed(premise)\n",
        "hypo = embed(hypothesis)\n",
        "\n",
        "prem = translate(prem)\n",
        "hypo = translate(hypo)\n",
        "\n",
        "if RNN and LAYERS > 1:\n",
        "  for l in range(LAYERS - 1):\n",
        "    rnn = RNN(return_sequences=True, **rnn_kwargs)\n",
        "    prem = BatchNormalization()(rnn(prem))\n",
        "    hypo = BatchNormalization()(rnn(hypo))\n",
        "rnn = SumEmbeddings if not RNN else RNN(return_sequences=False, **rnn_kwargs)\n",
        "prem = rnn(prem)\n",
        "hypo = rnn(hypo)\n",
        "prem = BatchNormalization()(prem)\n",
        "hypo = BatchNormalization()(hypo)"
      ]
    },
    {
      "cell_type": "code",
      "execution_count": null,
      "metadata": {
        "colab": {
          "base_uri": "https://localhost:8080/"
        },
        "id": "XKrUIehpRR1A",
        "outputId": "b1210017-c82e-4ebb-82cb-4986354faa80"
      },
      "outputs": [
        {
          "name": "stdout",
          "output_type": "stream",
          "text": [
            "Model: \"model\"\n",
            "__________________________________________________________________________________________________\n",
            " Layer (type)                   Output Shape         Param #     Connected to                     \n",
            "==================================================================================================\n",
            " input_1 (InputLayer)           [(None, 42)]         0           []                               \n",
            "                                                                                                  \n",
            " input_2 (InputLayer)           [(None, 42)]         0           []                               \n",
            "                                                                                                  \n",
            " embedding (Embedding)          (None, 42, 300)      10909200    ['input_1[0][0]',                \n",
            "                                                                  'input_2[0][0]']                \n",
            "                                                                                                  \n",
            " time_distributed (TimeDistribu  (None, 42, 300)     90300       ['embedding[0][0]',              \n",
            " ted)                                                             'embedding[1][0]']              \n",
            "                                                                                                  \n",
            " lambda (Lambda)                (None, 300)          0           ['time_distributed[0][0]',       \n",
            "                                                                  'time_distributed[1][0]']       \n",
            "                                                                                                  \n",
            " batch_normalization (BatchNorm  (None, 300)         1200        ['lambda[0][0]']                 \n",
            " alization)                                                                                       \n",
            "                                                                                                  \n",
            " batch_normalization_1 (BatchNo  (None, 300)         1200        ['lambda[1][0]']                 \n",
            " rmalization)                                                                                     \n",
            "                                                                                                  \n",
            " concatenate (Concatenate)      (None, 600)          0           ['batch_normalization[0][0]',    \n",
            "                                                                  'batch_normalization_1[0][0]']  \n",
            "                                                                                                  \n",
            " dropout (Dropout)              (None, 600)          0           ['concatenate[0][0]']            \n",
            "                                                                                                  \n",
            " dense_1 (Dense)                (None, 600)          360600      ['dropout[0][0]']                \n",
            "                                                                                                  \n",
            " dropout_1 (Dropout)            (None, 600)          0           ['dense_1[0][0]']                \n",
            "                                                                                                  \n",
            " batch_normalization_2 (BatchNo  (None, 600)         2400        ['dropout_1[0][0]']              \n",
            " rmalization)                                                                                     \n",
            "                                                                                                  \n",
            " dense_2 (Dense)                (None, 600)          360600      ['batch_normalization_2[0][0]']  \n",
            "                                                                                                  \n",
            " dropout_2 (Dropout)            (None, 600)          0           ['dense_2[0][0]']                \n",
            "                                                                                                  \n",
            " batch_normalization_3 (BatchNo  (None, 600)         2400        ['dropout_2[0][0]']              \n",
            " rmalization)                                                                                     \n",
            "                                                                                                  \n",
            " dense_3 (Dense)                (None, 600)          360600      ['batch_normalization_3[0][0]']  \n",
            "                                                                                                  \n",
            " dropout_3 (Dropout)            (None, 600)          0           ['dense_3[0][0]']                \n",
            "                                                                                                  \n",
            " batch_normalization_4 (BatchNo  (None, 600)         2400        ['dropout_3[0][0]']              \n",
            " rmalization)                                                                                     \n",
            "                                                                                                  \n",
            " dense_4 (Dense)                (None, 3)            1803        ['batch_normalization_4[0][0]']  \n",
            "                                                                                                  \n",
            "==================================================================================================\n",
            "Total params: 12,092,703\n",
            "Trainable params: 1,178,703\n",
            "Non-trainable params: 10,914,000\n",
            "__________________________________________________________________________________________________\n",
            "Epoch 1/10\n",
            "17168/17168 [==============================] - 809s 47ms/step - loss: 0.8936 - accuracy: 0.6035 - val_loss: 0.7820 - val_accuracy: 0.6696\n",
            "Epoch 2/10\n",
            "17168/17168 [==============================] - 794s 46ms/step - loss: 0.7918 - accuracy: 0.6698 - val_loss: 0.7079 - val_accuracy: 0.7172\n",
            "Epoch 3/10\n",
            "17168/17168 [==============================] - 804s 47ms/step - loss: 0.7634 - accuracy: 0.6902 - val_loss: 0.6835 - val_accuracy: 0.7346\n",
            "Epoch 4/10\n",
            "17168/17168 [==============================] - 816s 48ms/step - loss: 0.7486 - accuracy: 0.7013 - val_loss: 0.6717 - val_accuracy: 0.7400\n",
            "Epoch 5/10\n",
            "17168/17168 [==============================] - 802s 47ms/step - loss: 0.7391 - accuracy: 0.7093 - val_loss: 0.6577 - val_accuracy: 0.7503\n",
            "Epoch 6/10\n",
            "17168/17168 [==============================] - 819s 48ms/step - loss: 0.7329 - accuracy: 0.7140 - val_loss: 0.6612 - val_accuracy: 0.7484\n",
            "Epoch 7/10\n",
            "17168/17168 [==============================] - 805s 47ms/step - loss: 0.7284 - accuracy: 0.7184 - val_loss: 0.6530 - val_accuracy: 0.7586\n",
            "Epoch 8/10\n",
            "17168/17168 [==============================] - 800s 47ms/step - loss: 0.7238 - accuracy: 0.7224 - val_loss: 0.6592 - val_accuracy: 0.7520\n",
            "Epoch 9/10\n",
            "17168/17168 [==============================] - 796s 46ms/step - loss: 0.7210 - accuracy: 0.7254 - val_loss: 0.6394 - val_accuracy: 0.7667\n",
            "Epoch 10/10\n",
            "17168/17168 [==============================] - 801s 47ms/step - loss: 0.7189 - accuracy: 0.7274 - val_loss: 0.6465 - val_accuracy: 0.7641\n",
            "307/307 [==============================] - 5s 16ms/step - loss: 0.6426 - accuracy: 0.7655\n",
            "Test loss / test accuracy = 0.6426 / 0.7655\n"
          ]
        }
      ],
      "source": [
        "joint = keras.layers.concatenate([prem, hypo])\n",
        "joint = Dropout(DP)(joint)\n",
        "for i in range(3):\n",
        "  joint = Dense(2 * SENT_HIDDEN_SIZE, activation=ACTIVATION, kernel_regularizer=l2(L2) if L2 else None)(joint)\n",
        "  joint = Dropout(DP)(joint)\n",
        "  joint = BatchNormalization()(joint)\n",
        "\n",
        "pred = Dense(len(LABELS), activation='sigmoid')(joint)\n",
        "\n",
        "model = Model(inputs=[premise, hypothesis], outputs=pred)\n",
        "model.compile(optimizer=OPTIMIZER, loss='categorical_crossentropy', metrics=['accuracy'])\n",
        "\n",
        "model.summary()\n",
        "\n",
        "fn='/content/drive/MyDrive/NLP_Project/checkpoints/RNN-sigmoid/RNN-sigmoid'\n",
        "\n",
        "# Save the best model during validation and bail out of training early if we're not improving\n",
        "callbacks = [EarlyStopping(patience=PATIENCE), ModelCheckpoint(filepath=fn, save_best_only=True, save_weights_only=True, monitor='val_accuracy')]\n",
        "model.fit([training[0], training[1]], training[2], batch_size=BATCH_SIZE, epochs=MAX_EPOCHS, validation_data=([validation[0], validation[1]], validation[2]), callbacks=callbacks)\n",
        "model.save('/content/drive/MyDrive/NLP_Project/models/RNN-sigmoid.h5')\n",
        "# Restore the best found model during validation\n",
        "model.load_weights('/content/drive/MyDrive/NLP_Project/models/RNN-sigmoid.h5')\n",
        "\n",
        "loss, acc = model.evaluate([test[0], test[1]], test[2], batch_size=BATCH_SIZE)\n",
        "print('Test loss / test accuracy = {:.4f} / {:.4f}'.format(loss, acc))"
      ]
    },
    {
      "cell_type": "code",
      "execution_count": null,
      "metadata": {
        "colab": {
          "base_uri": "https://localhost:8080/",
          "height": 932
        },
        "id": "OaWR0SRSVTBf",
        "outputId": "cee22b31-55f1-41d9-e63d-6beb5d2c738c"
      },
      "outputs": [
        {
          "name": "stdout",
          "output_type": "stream",
          "text": [
            "307/307 [==============================] - 7s 22ms/step\n",
            "              precision    recall  f1-score   support\n",
            "\n",
            "           1       0.86      0.70      0.77      3237\n",
            "           2       0.77      0.69      0.73      3219\n",
            "           3       0.71      0.90      0.79      3368\n",
            "\n",
            "    accuracy                           0.77      9824\n",
            "   macro avg       0.78      0.76      0.76      9824\n",
            "weighted avg       0.78      0.77      0.76      9824\n",
            "\n"
          ]
        },
        {
          "data": {
            "image/png": "[encoded data removed]",
            "text/plain": [
              "<Figure size 900x900 with 2 Axes>"
            ]
          },
          "metadata": {},
          "output_type": "display_data"
        }
      ],
      "source": [
        "analysis_statistics(model, [test[0],test[1]], test[2], acc)"
      ]
    }
  ],
  "metadata": {
    "colab": {
      "provenance": []
    },
    "kernelspec": {
      "display_name": "Python 3.9.16 ('tf')",
      "language": "python",
      "name": "python3"
    },
    "language_info": {
      "codemirror_mode": {
        "name": "ipython",
        "version": 3
      },
      "file_extension": ".py",
      "mimetype": "text/x-python",
      "name": "python",
      "nbconvert_exporter": "python",
      "pygments_lexer": "ipython3",
      "version": "3.9.16"
    },
    "vscode": {
      "interpreter": {
        "hash": "3abc5bdbdea194eeba62d9393fcdac38968e59fb7f470e673aa42a9d97b22bd4"
      }
    }
  },
  "nbformat": 4,
  "nbformat_minor": 0
}
